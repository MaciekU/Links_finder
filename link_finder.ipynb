{
 "cells": [
  {
   "cell_type": "code",
   "execution_count": null,
   "metadata": {},
   "outputs": [],
   "source": [
    "from bs4 import BeautifulSoup\n",
    "import urllib\n",
    "import re"
   ]
  },
  {
   "cell_type": "code",
   "execution_count": null,
   "metadata": {},
   "outputs": [],
   "source": [
    "def get_links(url):\n",
    "    html_page = urllib.request.urlopen(url)\n",
    "    soup = BeautifulSoup(html_page, 'html.parser')\n",
    "    \n",
    "    href_tags = soup.find_all(href=True)\n",
    "    hrefs = [tag.get('href') for tag in href_tags]\n",
    "    \n",
    "    for idx in range(len(hrefs)):\n",
    "        if not hrefs[idx].startswith('http'):\n",
    "            hrefs[idx] = url + hrefs[idx]\n",
    "            \n",
    "    return hrefs, soup"
   ]
  },
  {
   "cell_type": "code",
   "execution_count": null,
   "metadata": {},
   "outputs": [],
   "source": [
    "hrefs, soup = get_links('https://www./')\n",
    "print(hrefs)"
   ]
  },
  {
   "cell_type": "code",
   "execution_count": null,
   "metadata": {},
   "outputs": [],
   "source": [
    "def get_all_js_files(soup):\n",
    "    list_js = [i.get('src') for i in soup.find_all('script') if i.get('src')]\n",
    "    return list_js"
   ]
  },
  {
   "cell_type": "code",
   "execution_count": null,
   "metadata": {},
   "outputs": [],
   "source": [
    "list_js = get_all_js_files(soup)\n",
    "print(list_js)"
   ]
  },
  {
   "cell_type": "code",
   "execution_count": null,
   "metadata": {},
   "outputs": [],
   "source": [
    "def open_js(list_js, soup):\n",
    "            \n",
    "    more_links = []\n",
    "    \n",
    "    for file in list_js:\n",
    "        try:\n",
    "            page = urllib.request.urlopen(file)\n",
    "            soup = BeautifulSoup(page, 'html.parser').text\n",
    "            regex = re.compile(r'(\\\"http.*?\\\")')\n",
    "            result = regex.findall(soup)\n",
    "            result = [r.replace('\\\\', '') for r in result]\n",
    "            result = [r.replace('\\\"', '') for r in result]\n",
    "            more_links.append(result)\n",
    "        except:\n",
    "            print(\"Error for:\")\n",
    "            print(file)\n",
    "    return more_links\n",
    "            \n",
    "    "
   ]
  },
  {
   "cell_type": "code",
   "execution_count": null,
   "metadata": {},
   "outputs": [],
   "source": [
    "more_links = open_js(list_js, soup)"
   ]
  },
  {
   "cell_type": "code",
   "execution_count": null,
   "metadata": {},
   "outputs": [],
   "source": [
    "print(more_links)"
   ]
  },
  {
   "cell_type": "markdown",
   "metadata": {},
   "source": [
    "## use of selenium"
   ]
  },
  {
   "cell_type": "code",
   "execution_count": null,
   "metadata": {},
   "outputs": [],
   "source": [
    "from bs4 import BeautifulSoup\n",
    "from selenium import webdriver\n",
    "from pprint import pprint\n",
    "\n",
    "driver = webdriver.Chrome() # use Chrome driver for example\n",
    "driver.get('https://www.')\n",
    "\n",
    "soup = BeautifulSoup(driver.page_source, \"html.parser\")\n",
    "list_js = [i.get('src') for i in soup.find_all('script') if i.get('src')]\n",
    "\n",
    "pprint(list_js)"
   ]
  },
  {
   "cell_type": "code",
   "execution_count": null,
   "metadata": {},
   "outputs": [],
   "source": []
  }
 ],
 "metadata": {
  "kernelspec": {
   "display_name": "Python 3",
   "language": "python",
   "name": "python3"
  },
  "language_info": {
   "codemirror_mode": {
    "name": "ipython",
    "version": 3
   },
   "file_extension": ".py",
   "mimetype": "text/x-python",
   "name": "python",
   "nbconvert_exporter": "python",
   "pygments_lexer": "ipython3",
   "version": "3.6.6"
  }
 },
 "nbformat": 4,
 "nbformat_minor": 2
}
